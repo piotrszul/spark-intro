{
 "cells": [
  {
   "cell_type": "code",
   "execution_count": 1,
   "metadata": {
    "collapsed": false
   },
   "outputs": [
    {
     "name": "stdout",
     "output_type": "stream",
     "text": [
      "Populating the interactive namespace from numpy and matplotlib\n"
     ]
    }
   ],
   "source": [
    "%pylab inline"
   ]
  },
  {
   "cell_type": "code",
   "execution_count": 2,
   "metadata": {
    "collapsed": false
   },
   "outputs": [],
   "source": [
    "inputRDD  = sc.textFile('../data/input.txt')"
   ]
  },
  {
   "cell_type": "code",
   "execution_count": 3,
   "metadata": {
    "collapsed": false
   },
   "outputs": [
    {
     "data": {
      "text/plain": [
       "MapPartitionsRDD[1] at textFile at NativeMethodAccessorImpl.java:-2"
      ]
     },
     "execution_count": 3,
     "metadata": {},
     "output_type": "execute_result"
    }
   ],
   "source": [
    "inputRDD"
   ]
  },
  {
   "cell_type": "code",
   "execution_count": 4,
   "metadata": {
    "collapsed": false
   },
   "outputs": [
    {
     "data": {
      "text/plain": [
       "[u'THE HOLY BIBLE',\n",
       " u'',\n",
       " u'CONTAINING THE OLD AND NEW TESTAMENTS',\n",
       " u'',\n",
       " u\"TRANSLATED OUT OF THE ORIGINAL TONGUES AND WITH THE FORMER TRANSLATIONS DILIGENTLY COMPARED AND REVISED BY HIS MAJESTY'S SPECIAL COMMAND\",\n",
       " u'',\n",
       " u'APPOINTED TO BE READ IN CHURCHES',\n",
       " u'',\n",
       " u'THE TEXT CONFORMABLE TO THAT OF THE EDITION OF 1611 COMMONLY KNOWN AS THE AUTHORIZED OR KING JAMES VERSION',\n",
       " u'']"
      ]
     },
     "execution_count": 4,
     "metadata": {},
     "output_type": "execute_result"
    }
   ],
   "source": [
    "inputRDD.take(10)"
   ]
  },
  {
   "cell_type": "code",
   "execution_count": 5,
   "metadata": {
    "collapsed": false
   },
   "outputs": [
    {
     "data": {
      "text/plain": [
       "33979"
      ]
     },
     "execution_count": 5,
     "metadata": {},
     "output_type": "execute_result"
    }
   ],
   "source": [
    "inputRDD.count()"
   ]
  },
  {
   "cell_type": "code",
   "execution_count": 6,
   "metadata": {
    "collapsed": false
   },
   "outputs": [],
   "source": [
    "wordsRDD = inputRDD.flatMap(lambda s: s.split(' '))"
   ]
  },
  {
   "cell_type": "code",
   "execution_count": 7,
   "metadata": {
    "collapsed": false
   },
   "outputs": [
    {
     "data": {
      "text/plain": [
       "[u'THE',\n",
       " u'HOLY',\n",
       " u'BIBLE',\n",
       " u'',\n",
       " u'CONTAINING',\n",
       " u'THE',\n",
       " u'OLD',\n",
       " u'AND',\n",
       " u'NEW',\n",
       " u'TESTAMENTS']"
      ]
     },
     "execution_count": 7,
     "metadata": {},
     "output_type": "execute_result"
    }
   ],
   "source": [
    "wordsRDD.take(10)"
   ]
  },
  {
   "cell_type": "code",
   "execution_count": 8,
   "metadata": {
    "collapsed": false
   },
   "outputs": [],
   "source": [
    "nonEmptyWordsRDD = wordsRDD.filter(lambda w:len(w) > 0)"
   ]
  },
  {
   "cell_type": "code",
   "execution_count": 9,
   "metadata": {
    "collapsed": false
   },
   "outputs": [],
   "source": [
    "nonEmptyWordsRDDWithOne = nonEmptyWordsRDD.map(lambda w:(w.lower(),1))"
   ]
  },
  {
   "cell_type": "code",
   "execution_count": 10,
   "metadata": {
    "collapsed": false
   },
   "outputs": [],
   "source": [
    "nonEmptyWordsRDDWithCount = nonEmptyWordsRDDWithOne.reduceByKey(lambda a,b: a + b)"
   ]
  },
  {
   "cell_type": "code",
   "execution_count": 11,
   "metadata": {
    "collapsed": false
   },
   "outputs": [
    {
     "data": {
      "text/plain": [
       "[(u'bedeiah,', 1),\n",
       " (u'formed,', 2),\n",
       " (u'shouted,', 5),\n",
       " (u'jeroboam.', 5),\n",
       " (u'yellow', 4),\n",
       " (u'four', 297),\n",
       " (u'prices', 1),\n",
       " (u'gibbar,', 1),\n",
       " (u'zohar,', 3),\n",
       " (u'slew.', 1)]"
      ]
     },
     "execution_count": 11,
     "metadata": {},
     "output_type": "execute_result"
    }
   ],
   "source": [
    "nonEmptyWordsRDDWithCount.take(10)"
   ]
  },
  {
   "cell_type": "code",
   "execution_count": 12,
   "metadata": {
    "collapsed": false
   },
   "outputs": [],
   "source": [
    "countsWithWordsRDD  = nonEmptyWordsRDDWithCount.map(lambda (word,count):(count, word))"
   ]
  },
  {
   "cell_type": "code",
   "execution_count": 13,
   "metadata": {
    "collapsed": false
   },
   "outputs": [
    {
     "data": {
      "text/plain": [
       "[(1, u'bedeiah,'),\n",
       " (2, u'formed,'),\n",
       " (5, u'shouted,'),\n",
       " (5, u'jeroboam.'),\n",
       " (4, u'yellow'),\n",
       " (297, u'four'),\n",
       " (1, u'prices'),\n",
       " (1, u'gibbar,'),\n",
       " (3, u'zohar,'),\n",
       " (1, u'slew.')]"
      ]
     },
     "execution_count": 13,
     "metadata": {},
     "output_type": "execute_result"
    }
   ],
   "source": [
    "countsWithWordsRDD.take(10)"
   ]
  },
  {
   "cell_type": "code",
   "execution_count": 14,
   "metadata": {
    "collapsed": false
   },
   "outputs": [
    {
     "data": {
      "text/plain": [
       "[(u'the', 64602),\n",
       " (u'and', 50534),\n",
       " (u'of', 34759),\n",
       " (u'to', 13754),\n",
       " (u'in', 12556),\n",
       " (u'that', 12016),\n",
       " (u'he', 10179),\n",
       " (u'shall', 9411),\n",
       " (u'unto', 8968),\n",
       " (u'i', 8660)]"
      ]
     },
     "execution_count": 14,
     "metadata": {},
     "output_type": "execute_result"
    }
   ],
   "source": [
    "top10Words = countsWithWordsRDD.sortByKey(False).map(lambda (count,word):(word, count)).take(10)\n",
    "top10Words"
   ]
  },
  {
   "cell_type": "code",
   "execution_count": 15,
   "metadata": {
    "collapsed": false
   },
   "outputs": [
    {
     "data": {
      "text/plain": [
       "([<matplotlib.axis.XTick at 0x105d852d0>,\n",
       "  <matplotlib.axis.XTick at 0x105d85490>,\n",
       "  <matplotlib.axis.XTick at 0x105d8ddd0>,\n",
       "  <matplotlib.axis.XTick at 0x105d85d10>,\n",
       "  <matplotlib.axis.XTick at 0x105d91290>,\n",
       "  <matplotlib.axis.XTick at 0x105d91850>,\n",
       "  <matplotlib.axis.XTick at 0x105d88a50>,\n",
       "  <matplotlib.axis.XTick at 0x105d81cd0>,\n",
       "  <matplotlib.axis.XTick at 0x105d75690>,\n",
       "  <matplotlib.axis.XTick at 0x105daac90>],\n",
       " <a list of 10 Text xticklabel objects>)"
      ]
     },
     "execution_count": 15,
     "metadata": {},
     "output_type": "execute_result"
    },
    {
     "data": {
      "image/png": "[encoded data removed]",
      "text/plain": [
       "<matplotlib.figure.Figure at 0x105d81550>"
      ]
     },
     "metadata": {},
     "output_type": "display_data"
    }
   ],
   "source": [
    "import matplotlib.pyplot as plt\n",
    "\n",
    "dictionary = plt.figure()\n",
    "\n",
    "D = dict(top10Words)\n",
    "\n",
    "plt.bar(range(len(D)), D.values(), align='center')\n",
    "plt.xticks(range(len(D)), D.keys())\n"
   ]
  }
 ],
 "metadata": {
  "kernelspec": {
   "display_name": "Python 2",
   "language": "python",
   "name": "python2"
  },
  "language_info": {
   "codemirror_mode": {
    "name": "ipython",
    "version": 2
   },
   "file_extension": ".py",
   "mimetype": "text/x-python",
   "name": "python",
   "nbconvert_exporter": "python",
   "pygments_lexer": "ipython2",
   "version": "2.7.5"
  }
 },
 "nbformat": 4,
 "nbformat_minor": 0
}
