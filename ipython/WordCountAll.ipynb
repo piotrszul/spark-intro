{
 "cells": [
  {
   "cell_type": "code",
   "execution_count": 6,
   "metadata": {
    "collapsed": false
   },
   "outputs": [],
   "source": [
    "wordCountRDD = sc.textFile('../data/input.txt') \\\n",
    "    .flatMap(lambda s: s.split(' ')) \\\n",
    "    .filter(lambda w:len(w) > 0) \\\n",
    "    .map(lambda w:(w.lower(),1)) \\\n",
    "    .reduceByKey(lambda a,b: a + b) \\\n",
    "    .map(lambda (word,count):(count, word)) \\\n",
    "    .sortByKey(False).map(lambda (count,word):(word, count))\n",
    "wordCountRDD.saveAsTextFile(\"wordcount.txt\")"
   ]
  }
 ],
 "metadata": {
  "kernelspec": {
   "display_name": "Python 2",
   "language": "python",
   "name": "python2"
  },
  "language_info": {
   "codemirror_mode": {
    "name": "ipython",
    "version": 2
   },
   "file_extension": ".py",
   "mimetype": "text/x-python",
   "name": "python",
   "nbconvert_exporter": "python",
   "pygments_lexer": "ipython2",
   "version": "2.7.5"
  }
 },
 "nbformat": 4,
 "nbformat_minor": 0
}
